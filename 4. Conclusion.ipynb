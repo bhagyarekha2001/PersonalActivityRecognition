{
 "cells": [
  {
   "cell_type": "markdown",
   "metadata": {},
   "source": [
    "<h1><p style=\"color: green\">Conclusion</p></h1>"
   ]
  },
  {
   "cell_type": "code",
   "execution_count": 1,
   "metadata": {},
   "outputs": [],
   "source": [
    "from prettytable import PrettyTable"
   ]
  },
  {
   "cell_type": "code",
   "execution_count": 2,
   "metadata": {},
   "outputs": [
    {
     "name": "stdout",
     "output_type": "stream",
     "text": [
      "\n",
      "\n",
      " ********************************* Deep Learning LSTM Model Comparision ***********************************\n",
      "+----------------------------------------------------------------------------------------------------------+\n",
      "|                                            Model Comparision                                             |\n",
      "+-------------------------------------------+------------------------+--------------------------+----------+\n",
      "|                 Model Name                | Hyperparameter Tunning | categorical_crossentropy | Accuracy |\n",
      "+-------------------------------------------+------------------------+--------------------------+----------+\n",
      "|       LSTM With 1_Layer(neurons:32)       |          Done          |          0.410           |  0.909   |\n",
      "| LSTM With 2_Layer(neurons:32, neurons:32) |          Done          |          0.2457          |  0.9155  |\n",
      "|       LSTM With 3_Layer(neurons:48)       |          Done          |          0.235           |  0.918   |\n",
      "|       LSTM With 4_Layer(neurons:64)       |          Done          |          0.385           |  0.9205  |\n",
      "|       LSTM With 5_Layer(neurons:80)       |          Done          |          0.242           |  0.9302  |\n",
      "+-------------------------------------------+------------------------+--------------------------+----------+\n"
     ]
    }
   ],
   "source": [
    "ptable2 = PrettyTable()\n",
    "ptable2.title = \" Model Comparision \"\n",
    "ptable2.field_names = ['Model Name','Hyperparameter Tunning', 'categorical_crossentropy', 'Accuracy']\n",
    "\n",
    "print(\"\\n\\n ********************************* Deep Learning LSTM Model Comparision ***********************************\")\n",
    "ptable2.add_row([\"LSTM With 1_Layer(neurons:32)\",\"Done\",\"0.410\", \"0.909\"])\n",
    "ptable2.add_row([\"LSTM With 2_Layer(neurons:32, neurons:32)\",\"Done\",\"0.2457\", \"0.9155\"])\n",
    "ptable2.add_row([\"LSTM With 3_Layer(neurons:48)\",\"Done\",\"0.235\", \"0.918\"])\n",
    "ptable2.add_row([\"LSTM With 4_Layer(neurons:64)\",\"Done\",\"0.385\", \"0.9205\"])\n",
    "ptable2.add_row([\"LSTM With 5_Layer(neurons:80)\",\"Done\",\"0.242\", \"0.9302\"])\n",
    "\n",
    "\n",
    "print(ptable2)"
   ]
  },
  {
   "cell_type": "markdown",
   "metadata": {},
   "source": [
    "2. ___Deep Learning LSTM Model Comparision___ : When we talking about LSTM Model, here with LSTM we are using simple RAW data(in ML model we are using Single engineered data made by an expert), but we can see the result without any FE data, LSTM perform very-very well and got highest 91% accuracy with 2_layer LSTM with hyperparameter Tunning and also we can clearly when we are increasing LSTM layer and Hyperparameter Tunning the cross-entropy value is decreasing and Accuracy is increasing."
   ]
  },
  {
   "cell_type": "code",
   "execution_count": null,
   "metadata": {},
   "outputs": [],
   "source": []
  }
 ],
 "metadata": {
  "kernelspec": {
   "display_name": "Python 3",
   "language": "python",
   "name": "python3"
  },
  "language_info": {
   "codemirror_mode": {
    "name": "ipython",
    "version": 3
   },
   "file_extension": ".py",
   "mimetype": "text/x-python",
   "name": "python",
   "nbconvert_exporter": "python",
   "pygments_lexer": "ipython3",
   "version": "3.8.8"
  }
 },
 "nbformat": 4,
 "nbformat_minor": 2
}
