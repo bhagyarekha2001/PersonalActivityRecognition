{
 "cells": [
  {
   "cell_type": "code",
   "execution_count": 1,
   "metadata": {},
   "outputs": [],
   "source": [
    "# Importing Libraries\n",
    "\n",
    "import pandas as pd\n",
    "import numpy as np\n",
    "\n",
    "# Import Keras\n",
    "from keras import backend as K\n",
    "from keras.models import Sequential\n",
    "from keras.layers import LSTM\n",
    "from keras.layers.core import Dense, Dropout\n",
    "from keras.layers import BatchNormalization\n",
    "from keras.regularizers import L1L2\n"
   ]
  },
  {
   "cell_type": "code",
   "execution_count": 2,
   "metadata": {},
   "outputs": [],
   "source": [
    "# Activities are the class labels\n",
    "# It is a 6 class classification\n",
    "ACTIVITIES = {\n",
    "    0: 'WALKING',\n",
    "    1: 'WALKING_UPSTAIRS',\n",
    "    2: 'WALKING_DOWNSTAIRS',\n",
    "    3: 'SITTING',\n",
    "    4: 'STANDING',\n",
    "    5: 'LAYING',\n",
    "}"
   ]
  },
  {
   "cell_type": "code",
   "execution_count": 3,
   "metadata": {},
   "outputs": [],
   "source": [
    "import matplotlib.pyplot as plt\n",
    "import seaborn as sns\n",
    "\n",
    "# function to print the confusion matrix\n",
    "\n",
    "def confusion_matrix(Y_true, Y_pred):\n",
    "    \n",
    "    Y_true = pd.Series([ACTIVITIES[y] for y in np.argmax(Y_true, axis=1)])\n",
    "    Y_pred = pd.Series([ACTIVITIES[y] for y in np.argmax(Y_pred, axis=1)])\n",
    "\n",
    "    return pd.crosstab(Y_true, Y_pred, rownames=['True'], colnames=['Pred'])\n",
    "\n",
    "    \n",
    "   # result = confusion_matrix(Y_true, Y_pred)\n",
    "\n",
    "    #plt.figure(figsize=(10, 8))\n",
    "   # sns.heatmap(result, \n",
    "    #            xticklabels= list(ACTIVITIES.values()), \n",
    "     #           yticklabels=list(ACTIVITIES.values()), \n",
    "      #          annot=True, fmt=\"d\");\n",
    "   # plt.title(\"Confusion matrix\")\n",
    "   # plt.ylabel('True label')\n",
    "   # plt.xlabel('Predicted label')\n",
    "    plt.show()  "
   ]
  },
  {
   "cell_type": "markdown",
   "metadata": {},
   "source": [
    "<html><h1><p style=\"color:red\">Loading Data / Making Data </p></h1></html>"
   ]
  },
  {
   "cell_type": "code",
   "execution_count": 3,
   "metadata": {},
   "outputs": [],
   "source": [
    "# Data directory\n",
    "DATADIR = 'UCI HAR Dataset/UCI HAR Dataset'\n",
    "\n",
    "# Raw data signals\n",
    "# Signals are from Accelerometer and Gyroscope\n",
    "# The signals are in x,y,z directions\n",
    "# Sensor signals are filtered to have only body acceleration\n",
    "# excluding the acceleration due to gravity\n",
    "# Triaxial acceleration from the accelerometer is total acceleration\n",
    "SIGNALS = [\n",
    "    \"body_acc_x\",\n",
    "    \"body_acc_y\",\n",
    "    \"body_acc_z\",\n",
    "    \"body_gyro_x\",\n",
    "    \"body_gyro_y\",\n",
    "    \"body_gyro_z\",\n",
    "    \"total_acc_x\",\n",
    "    \"total_acc_y\",\n",
    "    \"total_acc_z\"\n",
    "    ]"
   ]
  },
  {
   "cell_type": "code",
   "execution_count": 4,
   "metadata": {},
   "outputs": [],
   "source": [
    "# function to read the data from csv file\n",
    "def _read_csv(filename):\n",
    "    return pd.read_csv(filename, delim_whitespace=True, header=None)\n",
    "\n",
    "# function to load the load\n",
    "def load_signals(subset):\n",
    "    signals_data = []\n",
    "\n",
    "    for signal in SIGNALS:\n",
    "        filename = f'UCI HAR Dataset/UCI HAR Dataset/{subset}/Inertial Signals/{signal}_{subset}.txt'\n",
    "        signals_data.append(\n",
    "            _read_csv(filename).to_numpy()\n",
    "        ) \n",
    "\n",
    "    # Transpose is used to change the dimensionality of the output,\n",
    "    # aggregating the signals by combination of sample/timestep.\n",
    "    # Resultant shape is (7352 train/2947 test samples, 128 timesteps, 9 signals)\n",
    "    return np.transpose(signals_data, (1, 2, 0))"
   ]
  },
  {
   "cell_type": "code",
   "execution_count": 5,
   "metadata": {},
   "outputs": [],
   "source": [
    "def load_y(subset):\n",
    "    \"\"\"\n",
    "    The objective that we are trying to predict is a integer, from 1 to 6,\n",
    "    that represents a human activity. We return a binary representation of \n",
    "    every sample objective as a 6 bits vector using One Hot Encoding\n",
    "    (https://pandas.pydata.org/pandas-docs/stable/generated/pandas.get_dummies.html)\n",
    "    \"\"\"\n",
    "    filename = f'UCI HAR Dataset/UCI HAR Dataset/{subset}/y_{subset}.txt'\n",
    "    y = _read_csv(filename)[0]\n",
    "\n",
    "    return pd.get_dummies(y).to_numpy()"
   ]
  },
  {
   "cell_type": "code",
   "execution_count": 6,
   "metadata": {},
   "outputs": [],
   "source": [
    "def load_data():\n",
    "    \"\"\"\n",
    "    Obtain the dataset from multiple files.\n",
    "    Returns: X_train, X_test, y_train, y_test\n",
    "    \"\"\"\n",
    "    X_train, X_test = load_signals('train'), load_signals('test')\n",
    "    y_train, y_test = load_y('train'), load_y('test')\n",
    "\n",
    "    return X_train, X_test, y_train, y_test"
   ]
  },
  {
   "cell_type": "code",
   "execution_count": 8,
   "metadata": {},
   "outputs": [],
   "source": [
    "# Importing tensorflow\n",
    "np.random.seed(42)\n",
    "import tensorflow as tf\n",
    "tf.random.set_seed(42)"
   ]
  },
  {
   "cell_type": "code",
   "execution_count": 9,
   "metadata": {},
   "outputs": [],
   "source": [
    "# Initializing parameters\n",
    "epochs = 30\n",
    "batch_size = 16\n",
    "n_hidden = 32"
   ]
  },
  {
   "cell_type": "code",
   "execution_count": 10,
   "metadata": {},
   "outputs": [],
   "source": [
    "#function to count the number of classes\n",
    "def _count_classes(y):\n",
    "    return len(set([tuple(category) for category in y]))"
   ]
  },
  {
   "cell_type": "code",
   "execution_count": 11,
   "metadata": {},
   "outputs": [],
   "source": [
    "# Loading the train and test data\n",
    "X_train, X_test, Y_train, Y_test = load_data()"
   ]
  },
  {
   "cell_type": "code",
   "execution_count": 12,
   "metadata": {},
   "outputs": [
    {
     "name": "stdout",
     "output_type": "stream",
     "text": [
      "128\n",
      "9\n",
      "7352\n"
     ]
    },
    {
     "data": {
      "text/plain": [
       "6"
      ]
     },
     "execution_count": 12,
     "metadata": {},
     "output_type": "execute_result"
    }
   ],
   "source": [
    "timesteps = len(X_train[0])\n",
    "input_dim = len(X_train[0][0])\n",
    "n_classes = _count_classes(Y_train)\n",
    "\n",
    "print(timesteps)\n",
    "print(input_dim)\n",
    "print(len(X_train))\n",
    "n_classes"
   ]
  },
  {
   "cell_type": "markdown",
   "metadata": {},
   "source": [
    "<html><h1><p style=\"color:red\">1. Defining the Architecture of 1-Layer of LSTM </p></h1></html>"
   ]
  },
  {
   "cell_type": "code",
   "execution_count": 13,
   "metadata": {},
   "outputs": [
    {
     "name": "stdout",
     "output_type": "stream",
     "text": [
      "Model: \"sequential\"\n",
      "_________________________________________________________________\n",
      " Layer (type)                Output Shape              Param #   \n",
      "=================================================================\n",
      " lstm (LSTM)                 (None, 32)                5376      \n",
      "                                                                 \n",
      " dropout (Dropout)           (None, 32)                0         \n",
      "                                                                 \n",
      " dense (Dense)               (None, 6)                 198       \n",
      "                                                                 \n",
      "=================================================================\n",
      "Total params: 5,574\n",
      "Trainable params: 5,574\n",
      "Non-trainable params: 0\n",
      "_________________________________________________________________\n"
     ]
    }
   ],
   "source": [
    "# Initiliazing the sequential model\n",
    "model = Sequential()\n",
    "# Configuring the parameters\n",
    "model.add(LSTM(n_hidden, input_shape=(timesteps, input_dim)))\n",
    "# Adding a dropout layer\n",
    "model.add(Dropout(0.5))\n",
    "# Adding a dense output layer with sigmoid activation\n",
    "model.add(Dense(n_classes, activation='sigmoid'))\n",
    "model.summary()"
   ]
  },
  {
   "cell_type": "code",
   "execution_count": 14,
   "metadata": {},
   "outputs": [],
   "source": [
    "# Compiling the model\n",
    "model.compile(loss='categorical_crossentropy', optimizer='rmsprop', metrics=['accuracy'])"
   ]
  },
  {
   "cell_type": "code",
   "execution_count": 15,
   "metadata": {
    "scrolled": false
   },
   "outputs": [
    {
     "name": "stdout",
     "output_type": "stream",
     "text": [
      "Epoch 1/30\n",
      "460/460 [==============================] - 15s 29ms/step - loss: 1.1698 - accuracy: 0.5063 - val_loss: 0.9967 - val_accuracy: 0.6121\n",
      "Epoch 2/30\n",
      "460/460 [==============================] - 13s 28ms/step - loss: 0.7328 - accuracy: 0.7116 - val_loss: 0.7551 - val_accuracy: 0.7156\n",
      "Epoch 3/30\n",
      "460/460 [==============================] - 13s 29ms/step - loss: 0.6135 - accuracy: 0.7782 - val_loss: 0.6477 - val_accuracy: 0.7723\n",
      "Epoch 4/30\n",
      "460/460 [==============================] - 14s 29ms/step - loss: 0.4331 - accuracy: 0.8570 - val_loss: 0.4823 - val_accuracy: 0.8544\n",
      "Epoch 5/30\n",
      "460/460 [==============================] - 14s 30ms/step - loss: 0.4046 - accuracy: 0.8664 - val_loss: 0.4773 - val_accuracy: 0.8605\n",
      "Epoch 6/30\n",
      "460/460 [==============================] - 14s 30ms/step - loss: 0.3442 - accuracy: 0.8810 - val_loss: 0.5517 - val_accuracy: 0.8235\n",
      "Epoch 7/30\n",
      "460/460 [==============================] - 14s 31ms/step - loss: 0.3210 - accuracy: 0.8889 - val_loss: 0.4908 - val_accuracy: 0.8670\n",
      "Epoch 8/30\n",
      "460/460 [==============================] - 14s 30ms/step - loss: 0.3129 - accuracy: 0.8852 - val_loss: 0.3923 - val_accuracy: 0.8826\n",
      "Epoch 9/30\n",
      "460/460 [==============================] - 14s 30ms/step - loss: 0.3046 - accuracy: 0.8927 - val_loss: 0.4582 - val_accuracy: 0.8765\n",
      "Epoch 10/30\n",
      "460/460 [==============================] - 14s 31ms/step - loss: 0.3071 - accuracy: 0.8992 - val_loss: 0.4289 - val_accuracy: 0.8761\n",
      "Epoch 11/30\n",
      "460/460 [==============================] - 14s 31ms/step - loss: 0.2869 - accuracy: 0.8928 - val_loss: 0.3540 - val_accuracy: 0.8853\n",
      "Epoch 12/30\n",
      "460/460 [==============================] - 14s 31ms/step - loss: 0.2234 - accuracy: 0.9222 - val_loss: 0.4157 - val_accuracy: 0.8826\n",
      "Epoch 13/30\n",
      "460/460 [==============================] - 14s 31ms/step - loss: 0.2169 - accuracy: 0.9246 - val_loss: 0.3846 - val_accuracy: 0.8846\n",
      "Epoch 14/30\n",
      "460/460 [==============================] - 15s 32ms/step - loss: 0.1993 - accuracy: 0.9317 - val_loss: 0.3734 - val_accuracy: 0.8972\n",
      "Epoch 15/30\n",
      "460/460 [==============================] - 14s 31ms/step - loss: 0.1957 - accuracy: 0.9316 - val_loss: 0.3719 - val_accuracy: 0.8948\n",
      "Epoch 16/30\n",
      "460/460 [==============================] - 14s 31ms/step - loss: 0.1665 - accuracy: 0.9400 - val_loss: 0.3191 - val_accuracy: 0.9043\n",
      "Epoch 17/30\n",
      "460/460 [==============================] - 14s 31ms/step - loss: 0.1664 - accuracy: 0.9427 - val_loss: 0.2700 - val_accuracy: 0.9080\n",
      "Epoch 18/30\n",
      "460/460 [==============================] - 14s 30ms/step - loss: 0.1569 - accuracy: 0.9453 - val_loss: 0.2875 - val_accuracy: 0.9169\n",
      "Epoch 19/30\n",
      "460/460 [==============================] - 14s 31ms/step - loss: 0.1753 - accuracy: 0.9407 - val_loss: 0.3022 - val_accuracy: 0.9186\n",
      "Epoch 20/30\n",
      "460/460 [==============================] - 14s 31ms/step - loss: 0.1616 - accuracy: 0.9461 - val_loss: 0.2782 - val_accuracy: 0.9084\n",
      "Epoch 21/30\n",
      "460/460 [==============================] - 14s 31ms/step - loss: 0.1639 - accuracy: 0.9474 - val_loss: 0.3174 - val_accuracy: 0.9050\n",
      "Epoch 22/30\n",
      "460/460 [==============================] - 14s 31ms/step - loss: 0.1608 - accuracy: 0.9408 - val_loss: 0.2695 - val_accuracy: 0.9114\n",
      "Epoch 23/30\n",
      "460/460 [==============================] - 16s 35ms/step - loss: 0.1600 - accuracy: 0.9455 - val_loss: 0.3137 - val_accuracy: 0.9087\n",
      "Epoch 24/30\n",
      "460/460 [==============================] - 14s 30ms/step - loss: 0.1560 - accuracy: 0.9442 - val_loss: 0.2697 - val_accuracy: 0.9074\n",
      "Epoch 25/30\n",
      "460/460 [==============================] - 14s 30ms/step - loss: 0.1540 - accuracy: 0.9467 - val_loss: 0.2893 - val_accuracy: 0.9175\n",
      "Epoch 26/30\n",
      "460/460 [==============================] - 14s 30ms/step - loss: 0.1475 - accuracy: 0.9446 - val_loss: 0.3437 - val_accuracy: 0.9186\n",
      "Epoch 27/30\n",
      "460/460 [==============================] - 14s 30ms/step - loss: 0.1415 - accuracy: 0.9459 - val_loss: 0.3101 - val_accuracy: 0.9220\n",
      "Epoch 28/30\n",
      "460/460 [==============================] - 14s 31ms/step - loss: 0.1383 - accuracy: 0.9465 - val_loss: 0.3127 - val_accuracy: 0.9114\n",
      "Epoch 29/30\n",
      "460/460 [==============================] - 15s 33ms/step - loss: 0.1584 - accuracy: 0.9468 - val_loss: 0.3303 - val_accuracy: 0.9179\n",
      "Epoch 30/30\n",
      "460/460 [==============================] - 15s 33ms/step - loss: 0.1772 - accuracy: 0.9404 - val_loss: 0.3441 - val_accuracy: 0.8955\n"
     ]
    },
    {
     "data": {
      "text/plain": [
       "<keras.callbacks.History at 0x2828ef48640>"
      ]
     },
     "execution_count": 15,
     "metadata": {},
     "output_type": "execute_result"
    }
   ],
   "source": [
    "# Training the model\n",
    "model.fit(X_train, Y_train, batch_size=batch_size, validation_data=(X_test, Y_test),epochs=epochs)"
   ]
  },
  {
   "cell_type": "code",
   "execution_count": 16,
   "metadata": {
    "scrolled": false
   },
   "outputs": [
    {
     "name": "stdout",
     "output_type": "stream",
     "text": [
      "93/93 [==============================] - 3s 22ms/step\n"
     ]
    },
    {
     "data": {
      "text/html": [
       "<div>\n",
       "<style scoped>\n",
       "    .dataframe tbody tr th:only-of-type {\n",
       "        vertical-align: middle;\n",
       "    }\n",
       "\n",
       "    .dataframe tbody tr th {\n",
       "        vertical-align: top;\n",
       "    }\n",
       "\n",
       "    .dataframe thead th {\n",
       "        text-align: right;\n",
       "    }\n",
       "</style>\n",
       "<table border=\"1\" class=\"dataframe\">\n",
       "  <thead>\n",
       "    <tr style=\"text-align: right;\">\n",
       "      <th>Pred</th>\n",
       "      <th>LAYING</th>\n",
       "      <th>SITTING</th>\n",
       "      <th>STANDING</th>\n",
       "      <th>WALKING</th>\n",
       "      <th>WALKING_DOWNSTAIRS</th>\n",
       "      <th>WALKING_UPSTAIRS</th>\n",
       "    </tr>\n",
       "    <tr>\n",
       "      <th>True</th>\n",
       "      <th></th>\n",
       "      <th></th>\n",
       "      <th></th>\n",
       "      <th></th>\n",
       "      <th></th>\n",
       "      <th></th>\n",
       "    </tr>\n",
       "  </thead>\n",
       "  <tbody>\n",
       "    <tr>\n",
       "      <th>LAYING</th>\n",
       "      <td>537</td>\n",
       "      <td>0</td>\n",
       "      <td>0</td>\n",
       "      <td>0</td>\n",
       "      <td>0</td>\n",
       "      <td>0</td>\n",
       "    </tr>\n",
       "    <tr>\n",
       "      <th>SITTING</th>\n",
       "      <td>0</td>\n",
       "      <td>373</td>\n",
       "      <td>113</td>\n",
       "      <td>1</td>\n",
       "      <td>0</td>\n",
       "      <td>4</td>\n",
       "    </tr>\n",
       "    <tr>\n",
       "      <th>STANDING</th>\n",
       "      <td>0</td>\n",
       "      <td>83</td>\n",
       "      <td>447</td>\n",
       "      <td>1</td>\n",
       "      <td>0</td>\n",
       "      <td>1</td>\n",
       "    </tr>\n",
       "    <tr>\n",
       "      <th>WALKING</th>\n",
       "      <td>0</td>\n",
       "      <td>0</td>\n",
       "      <td>1</td>\n",
       "      <td>450</td>\n",
       "      <td>38</td>\n",
       "      <td>7</td>\n",
       "    </tr>\n",
       "    <tr>\n",
       "      <th>WALKING_DOWNSTAIRS</th>\n",
       "      <td>0</td>\n",
       "      <td>0</td>\n",
       "      <td>0</td>\n",
       "      <td>4</td>\n",
       "      <td>414</td>\n",
       "      <td>2</td>\n",
       "    </tr>\n",
       "    <tr>\n",
       "      <th>WALKING_UPSTAIRS</th>\n",
       "      <td>0</td>\n",
       "      <td>0</td>\n",
       "      <td>0</td>\n",
       "      <td>6</td>\n",
       "      <td>6</td>\n",
       "      <td>459</td>\n",
       "    </tr>\n",
       "  </tbody>\n",
       "</table>\n",
       "</div>"
      ],
      "text/plain": [
       "Pred                LAYING  SITTING  STANDING  WALKING  WALKING_DOWNSTAIRS  \\\n",
       "True                                                                         \n",
       "LAYING                 537        0         0        0                   0   \n",
       "SITTING                  0      373       113        1                   0   \n",
       "STANDING                 0       83       447        1                   0   \n",
       "WALKING                  0        0         1      450                  38   \n",
       "WALKING_DOWNSTAIRS       0        0         0        4                 414   \n",
       "WALKING_UPSTAIRS         0        0         0        6                   6   \n",
       "\n",
       "Pred                WALKING_UPSTAIRS  \n",
       "True                                  \n",
       "LAYING                             0  \n",
       "SITTING                            4  \n",
       "STANDING                           1  \n",
       "WALKING                            7  \n",
       "WALKING_DOWNSTAIRS                 2  \n",
       "WALKING_UPSTAIRS                 459  "
      ]
     },
     "execution_count": 16,
     "metadata": {},
     "output_type": "execute_result"
    }
   ],
   "source": [
    "# Confusion Matrix\n",
    "confusion_matrix(Y_test, model.predict(X_test))"
   ]
  },
  {
   "cell_type": "code",
   "execution_count": 17,
   "metadata": {
    "scrolled": true
   },
   "outputs": [
    {
     "name": "stdout",
     "output_type": "stream",
     "text": [
      "93/93 [==============================] - 2s 21ms/step - loss: 0.4104 - accuracy: 0.9094\n",
      "\n",
      "   cat_crossentropy  ||   accuracy \n",
      "  ____________________________________\n",
      "[0.4104450047016144, 0.9093993902206421]\n"
     ]
    }
   ],
   "source": [
    "score = model.evaluate(X_test, Y_test)\n",
    "\n",
    "print(\"\\n   cat_crossentropy  ||   accuracy \")\n",
    "print(\"  ____________________________________\")\n",
    "print(score)"
   ]
  },
  {
   "cell_type": "markdown",
   "metadata": {},
   "source": [
    "<html><h3><p style=\"color:#008080\">With a simple 1 layer architecture we got 90.09% accuracy and a loss of 0.47</p></h4></html>"
   ]
  },
  {
   "cell_type": "markdown",
   "metadata": {},
   "source": []
  },
  {
   "cell_type": "markdown",
   "metadata": {},
   "source": [
    "<html><h1><p style=\"color:red\">Defining the Architecture of 2-Layer of LSTM with more hyperparameter tunning </p></h1></html>"
   ]
  },
  {
   "cell_type": "code",
   "execution_count": 18,
   "metadata": {},
   "outputs": [],
   "source": [
    "# Initializing parameters\n",
    "n_epochs = 30\n",
    "n_batch = 16\n",
    "n_classes = _count_classes(Y_train)\n",
    "\n",
    "# Bias regularizer value - we will use elasticnet\n",
    "reg = L1L2(0.01, 0.01)"
   ]
  },
  {
   "cell_type": "code",
   "execution_count": 17,
   "metadata": {},
   "outputs": [
    {
     "name": "stdout",
     "output_type": "stream",
     "text": [
      "Model Summary: \n",
      "Model: \"sequential_1\"\n",
      "_________________________________________________________________\n",
      " Layer (type)                Output Shape              Param #   \n",
      "=================================================================\n",
      " lstm_1 (LSTM)               (None, 128, 32)           5376      \n",
      "                                                                 \n",
      " batch_normalization (BatchN  (None, 128, 32)          128       \n",
      " ormalization)                                                   \n",
      "                                                                 \n",
      " dropout_1 (Dropout)         (None, 128, 32)           0         \n",
      "                                                                 \n",
      " lstm_2 (LSTM)               (None, 32)                8320      \n",
      "                                                                 \n",
      " dropout_2 (Dropout)         (None, 32)                0         \n",
      "                                                                 \n",
      " dense_1 (Dense)             (None, 6)                 198       \n",
      "                                                                 \n",
      "=================================================================\n",
      "Total params: 14,022\n",
      "Trainable params: 13,958\n",
      "Non-trainable params: 64\n",
      "_________________________________________________________________\n"
     ]
    }
   ],
   "source": [
    "# Model execution\n",
    "model = Sequential()\n",
    "model.add(LSTM(32, input_shape=(timesteps, input_dim), return_sequences=True,bias_regularizer=reg ))\n",
    "model.add(BatchNormalization())\n",
    "model.add(Dropout(0.50))\n",
    "model.add(LSTM(32))\n",
    "model.add(Dropout(0.50))\n",
    "model.add(Dense(n_classes, activation='sigmoid'))\n",
    "print(\"Model Summary: \")\n",
    "model.summary()"
   ]
  },
  {
   "cell_type": "code",
   "execution_count": 19,
   "metadata": {},
   "outputs": [],
   "source": [
    "model.compile(loss='categorical_crossentropy', optimizer='adam', metrics=['accuracy'])"
   ]
  },
  {
   "cell_type": "code",
   "execution_count": 20,
   "metadata": {
    "scrolled": true
   },
   "outputs": [
    {
     "name": "stdout",
     "output_type": "stream",
     "text": [
      "Epoch 1/30\n",
      "460/460 [==============================] - 33s 65ms/step - loss: 1.3459 - accuracy: 0.6586 - val_loss: 0.9858 - val_accuracy: 0.7733\n",
      "Epoch 2/30\n",
      "460/460 [==============================] - 29s 64ms/step - loss: 0.7542 - accuracy: 0.8120 - val_loss: 0.6196 - val_accuracy: 0.8432\n",
      "Epoch 3/30\n",
      "460/460 [==============================] - 29s 62ms/step - loss: 0.4987 - accuracy: 0.8834 - val_loss: 0.5289 - val_accuracy: 0.8544\n",
      "Epoch 4/30\n",
      "460/460 [==============================] - 29s 63ms/step - loss: 0.3275 - accuracy: 0.9161 - val_loss: 0.3547 - val_accuracy: 0.8918\n",
      "Epoch 5/30\n",
      "460/460 [==============================] - 29s 63ms/step - loss: 0.2555 - accuracy: 0.9287 - val_loss: 0.6088 - val_accuracy: 0.8300\n",
      "Epoch 6/30\n",
      "460/460 [==============================] - 29s 64ms/step - loss: 0.2448 - accuracy: 0.9244 - val_loss: 0.2757 - val_accuracy: 0.9080\n",
      "Epoch 7/30\n",
      "460/460 [==============================] - 29s 64ms/step - loss: 0.2158 - accuracy: 0.9279 - val_loss: 0.2255 - val_accuracy: 0.9213\n",
      "Epoch 8/30\n",
      "460/460 [==============================] - 35s 76ms/step - loss: 0.2231 - accuracy: 0.9291 - val_loss: 0.2973 - val_accuracy: 0.8968\n",
      "Epoch 9/30\n",
      "460/460 [==============================] - 31s 67ms/step - loss: 0.1911 - accuracy: 0.9350 - val_loss: 0.2753 - val_accuracy: 0.9043\n",
      "Epoch 10/30\n",
      "460/460 [==============================] - 30s 65ms/step - loss: 0.1722 - accuracy: 0.9380 - val_loss: 0.2367 - val_accuracy: 0.9162\n",
      "Epoch 11/30\n",
      "460/460 [==============================] - 30s 66ms/step - loss: 0.2014 - accuracy: 0.9271 - val_loss: 0.2578 - val_accuracy: 0.9121\n",
      "Epoch 12/30\n",
      "460/460 [==============================] - 30s 65ms/step - loss: 0.1687 - accuracy: 0.9407 - val_loss: 0.2678 - val_accuracy: 0.9050\n",
      "Epoch 13/30\n",
      "460/460 [==============================] - 30s 65ms/step - loss: 0.1713 - accuracy: 0.9340 - val_loss: 0.2105 - val_accuracy: 0.9257\n",
      "Epoch 14/30\n",
      "460/460 [==============================] - 30s 64ms/step - loss: 0.2246 - accuracy: 0.9266 - val_loss: 0.2373 - val_accuracy: 0.9091\n",
      "Epoch 15/30\n",
      "460/460 [==============================] - 30s 66ms/step - loss: 0.1826 - accuracy: 0.9376 - val_loss: 0.2927 - val_accuracy: 0.8928\n",
      "Epoch 16/30\n",
      "460/460 [==============================] - 30s 65ms/step - loss: 0.1616 - accuracy: 0.9399 - val_loss: 0.2141 - val_accuracy: 0.9270\n",
      "Epoch 17/30\n",
      "460/460 [==============================] - 31s 66ms/step - loss: 0.1553 - accuracy: 0.9434 - val_loss: 0.2625 - val_accuracy: 0.9046\n",
      "Epoch 18/30\n",
      "460/460 [==============================] - 30s 65ms/step - loss: 0.1451 - accuracy: 0.9445 - val_loss: 0.2166 - val_accuracy: 0.9189\n",
      "Epoch 19/30\n",
      "460/460 [==============================] - 30s 66ms/step - loss: 0.1457 - accuracy: 0.9461 - val_loss: 0.2491 - val_accuracy: 0.9216\n",
      "Epoch 20/30\n",
      "460/460 [==============================] - 30s 65ms/step - loss: 0.1640 - accuracy: 0.9368 - val_loss: 0.2297 - val_accuracy: 0.9223\n",
      "Epoch 21/30\n",
      "460/460 [==============================] - 30s 66ms/step - loss: 0.1406 - accuracy: 0.9467 - val_loss: 0.2453 - val_accuracy: 0.9230\n",
      "Epoch 22/30\n",
      "460/460 [==============================] - 30s 66ms/step - loss: 0.1502 - accuracy: 0.9426 - val_loss: 0.2556 - val_accuracy: 0.9175\n",
      "Epoch 23/30\n",
      "460/460 [==============================] - 30s 65ms/step - loss: 0.1343 - accuracy: 0.9471 - val_loss: 0.2669 - val_accuracy: 0.9155\n",
      "Epoch 24/30\n",
      "460/460 [==============================] - 30s 66ms/step - loss: 0.1579 - accuracy: 0.9416 - val_loss: 0.1951 - val_accuracy: 0.9284\n",
      "Epoch 25/30\n",
      "460/460 [==============================] - 30s 66ms/step - loss: 0.1592 - accuracy: 0.9408 - val_loss: 0.2351 - val_accuracy: 0.9179\n",
      "Epoch 26/30\n",
      "460/460 [==============================] - 30s 66ms/step - loss: 0.1448 - accuracy: 0.9463 - val_loss: 0.2627 - val_accuracy: 0.9206\n",
      "Epoch 27/30\n",
      "460/460 [==============================] - 30s 66ms/step - loss: 0.1342 - accuracy: 0.9475 - val_loss: 0.2809 - val_accuracy: 0.9257\n",
      "Epoch 28/30\n",
      "460/460 [==============================] - 31s 68ms/step - loss: 0.1392 - accuracy: 0.9452 - val_loss: 0.2701 - val_accuracy: 0.9216\n",
      "Epoch 29/30\n",
      "460/460 [==============================] - 31s 68ms/step - loss: 0.1767 - accuracy: 0.9389 - val_loss: 0.2986 - val_accuracy: 0.9182\n",
      "Epoch 30/30\n",
      "460/460 [==============================] - 31s 67ms/step - loss: 0.1361 - accuracy: 0.9468 - val_loss: 0.3140 - val_accuracy: 0.9172\n"
     ]
    },
    {
     "data": {
      "text/plain": [
       "<keras.callbacks.History at 0x2829f0123d0>"
      ]
     },
     "execution_count": 20,
     "metadata": {},
     "output_type": "execute_result"
    }
   ],
   "source": [
    "# Training the model\n",
    "model.fit(X_train, Y_train, batch_size=n_batch, validation_data=(X_test, Y_test), epochs=n_epochs)"
   ]
  },
  {
   "cell_type": "code",
   "execution_count": 30,
   "metadata": {},
   "outputs": [
    {
     "ename": "NameError",
     "evalue": "name 'Confusion_matrix' is not defined",
     "output_type": "error",
     "traceback": [
      "\u001b[1;31m---------------------------------------------------------------------------\u001b[0m",
      "\u001b[1;31mNameError\u001b[0m                                 Traceback (most recent call last)",
      "\u001b[1;32m<ipython-input-30-55b38cb95b02>\u001b[0m in \u001b[0;36m<module>\u001b[1;34m\u001b[0m\n\u001b[0;32m      1\u001b[0m \u001b[1;31m# Confusion Matrix\u001b[0m\u001b[1;33m\u001b[0m\u001b[1;33m\u001b[0m\u001b[1;33m\u001b[0m\u001b[0m\n\u001b[1;32m----> 2\u001b[1;33m \u001b[0mConfusion_matrix\u001b[0m\u001b[1;33m(\u001b[0m\u001b[0mY_test\u001b[0m\u001b[1;33m,\u001b[0m \u001b[0mmodel\u001b[0m\u001b[1;33m.\u001b[0m\u001b[0mpredict\u001b[0m\u001b[1;33m(\u001b[0m\u001b[0mX_test\u001b[0m\u001b[1;33m)\u001b[0m\u001b[1;33m)\u001b[0m\u001b[1;33m\u001b[0m\u001b[1;33m\u001b[0m\u001b[0m\n\u001b[0m",
      "\u001b[1;31mNameError\u001b[0m: name 'Confusion_matrix' is not defined"
     ]
    }
   ],
   "source": [
    "# Confusion Matrix\n",
    "Confusion_matrix(Y_test, model.predict(X_test))\n"
   ]
  },
  {
   "cell_type": "code",
   "execution_count": 31,
   "metadata": {},
   "outputs": [
    {
     "name": "stdout",
     "output_type": "stream",
     "text": [
      "93/93 [==============================] - 2s 26ms/step - loss: 0.3259 - accuracy: 0.9192\n",
      "\n",
      "   cat_crossentropy  ||   accuracy \n",
      "  ____________________________________\n",
      "[0.325888991355896, 0.91923987865448]\n"
     ]
    }
   ],
   "source": [
    "score = model.evaluate(X_test, Y_test)\n",
    "\n",
    "print(\"\\n   cat_crossentropy  ||   accuracy \")\n",
    "print(\"  ____________________________________\")\n",
    "print(score)"
   ]
  },
  {
   "cell_type": "markdown",
   "metadata": {},
   "source": [
    "<html><h1><p style=\"color:red\">Defining the Architecture of 3-Layer of LSTM with more hyperparameter tunning </p></h1></html>"
   ]
  },
  {
   "cell_type": "code",
   "execution_count": 24,
   "metadata": {},
   "outputs": [],
   "source": [
    "import numpy as np\n",
    "import tensorflow\n",
    "import matplotlib.pyplot as plt\n",
    "import pandas as pd\n",
    "from tensorflow.keras.models import Model, load_model\n",
    "from tensorflow.keras.layers import LSTM, Dense, Dropout, Bidirectional, Embedding, Input, Concatenate\n",
    "from tensorflow.keras.callbacks import EarlyStopping, ModelCheckpoint\n",
    "from tensorflow.keras.models import Sequential"
   ]
  },
  {
   "cell_type": "code",
   "execution_count": 26,
   "metadata": {},
   "outputs": [
    {
     "name": "stdout",
     "output_type": "stream",
     "text": [
      "Model: \"sequential_2\"\n",
      "_________________________________________________________________\n",
      " Layer (type)                Output Shape              Param #   \n",
      "=================================================================\n",
      " lstm_3 (LSTM)               (None, 128, 48)           11136     \n",
      "                                                                 \n",
      " batch_normalization_1 (Batc  (None, 128, 48)          192       \n",
      " hNormalization)                                                 \n",
      "                                                                 \n",
      " dropout_3 (Dropout)         (None, 128, 48)           0         \n",
      "                                                                 \n",
      " lstm_4 (LSTM)               (None, 128, 48)           18624     \n",
      "                                                                 \n",
      " dropout_4 (Dropout)         (None, 128, 48)           0         \n",
      "                                                                 \n",
      " lstm_5 (LSTM)               (None, 48)                18624     \n",
      "                                                                 \n",
      " dropout_5 (Dropout)         (None, 48)                0         \n",
      "                                                                 \n",
      " dense_2 (Dense)             (None, 6)                 294       \n",
      "                                                                 \n",
      "=================================================================\n",
      "Total params: 48,870\n",
      "Trainable params: 48,774\n",
      "Non-trainable params: 96\n",
      "_________________________________________________________________\n"
     ]
    }
   ],
   "source": [
    "model = Sequential()\n",
    "model.add(LSTM(48, return_sequences=True, input_shape=(timesteps, input_dim)))  # returns a sequence of vectors of dimension 32\n",
    "model.add(BatchNormalization())\n",
    "model.add(Dropout(0.50))\n",
    "model.add(LSTM(48, return_sequences=True))  # returns a sequence of vectors of dimension 32\n",
    "model.add(Dropout(0.50))\n",
    "model.add(LSTM(48))  # return a single vector of dimension 32\n",
    "model.add(Dropout(0.50))\n",
    "model.add(Dense(n_classes, activation='softmax'))\n",
    "model.summary()"
   ]
  },
  {
   "cell_type": "code",
   "execution_count": 27,
   "metadata": {},
   "outputs": [],
   "source": [
    "model.compile(loss='categorical_crossentropy', optimizer='adam', metrics=['accuracy'])"
   ]
  },
  {
   "cell_type": "code",
   "execution_count": 28,
   "metadata": {},
   "outputs": [
    {
     "name": "stdout",
     "output_type": "stream",
     "text": [
      "Epoch 1/30\n",
      "460/460 [==============================] - 47s 94ms/step - loss: 0.6395 - accuracy: 0.7564 - val_loss: 0.6912 - val_accuracy: 0.8042\n",
      "Epoch 2/30\n",
      "460/460 [==============================] - 45s 98ms/step - loss: 0.2854 - accuracy: 0.9106 - val_loss: 0.8241 - val_accuracy: 0.7146\n",
      "Epoch 3/30\n",
      "460/460 [==============================] - 49s 106ms/step - loss: 0.2032 - accuracy: 0.9304 - val_loss: 0.3022 - val_accuracy: 0.9030\n",
      "Epoch 4/30\n",
      "460/460 [==============================] - 48s 103ms/step - loss: 0.1835 - accuracy: 0.9343 - val_loss: 0.6815 - val_accuracy: 0.7462\n",
      "Epoch 5/30\n",
      "460/460 [==============================] - 48s 105ms/step - loss: 0.1918 - accuracy: 0.9313 - val_loss: 0.2751 - val_accuracy: 0.9220\n",
      "Epoch 6/30\n",
      "460/460 [==============================] - 48s 105ms/step - loss: 0.1843 - accuracy: 0.9316 - val_loss: 0.2861 - val_accuracy: 0.9243\n",
      "Epoch 7/30\n",
      "460/460 [==============================] - 50s 109ms/step - loss: 0.1527 - accuracy: 0.9442 - val_loss: 0.2774 - val_accuracy: 0.9250\n",
      "Epoch 8/30\n",
      "460/460 [==============================] - 48s 105ms/step - loss: 0.1529 - accuracy: 0.9404 - val_loss: 0.2997 - val_accuracy: 0.9291\n",
      "Epoch 9/30\n",
      "460/460 [==============================] - 48s 105ms/step - loss: 0.1658 - accuracy: 0.9348 - val_loss: 0.3443 - val_accuracy: 0.8996\n",
      "Epoch 10/30\n",
      "460/460 [==============================] - 49s 107ms/step - loss: 0.1525 - accuracy: 0.9388 - val_loss: 0.2805 - val_accuracy: 0.9216\n",
      "Epoch 11/30\n",
      "460/460 [==============================] - 49s 107ms/step - loss: 0.1330 - accuracy: 0.9472 - val_loss: 0.2530 - val_accuracy: 0.9199\n",
      "Epoch 12/30\n",
      "460/460 [==============================] - 52s 112ms/step - loss: 0.1482 - accuracy: 0.9441 - val_loss: 0.2128 - val_accuracy: 0.9321\n",
      "Epoch 13/30\n",
      "460/460 [==============================] - 51s 111ms/step - loss: 0.1296 - accuracy: 0.9433 - val_loss: 0.4923 - val_accuracy: 0.9006\n",
      "Epoch 14/30\n",
      "460/460 [==============================] - 50s 108ms/step - loss: 0.1313 - accuracy: 0.9460 - val_loss: 0.3453 - val_accuracy: 0.9145\n",
      "Epoch 15/30\n",
      "460/460 [==============================] - 50s 109ms/step - loss: 0.1369 - accuracy: 0.9468 - val_loss: 0.4264 - val_accuracy: 0.8965\n",
      "Epoch 16/30\n",
      "460/460 [==============================] - 50s 109ms/step - loss: 0.1342 - accuracy: 0.9486 - val_loss: 0.3688 - val_accuracy: 0.9084\n",
      "Epoch 17/30\n",
      "460/460 [==============================] - 50s 109ms/step - loss: 0.1816 - accuracy: 0.9380 - val_loss: 0.2085 - val_accuracy: 0.9230\n",
      "Epoch 18/30\n",
      "460/460 [==============================] - 50s 108ms/step - loss: 0.1376 - accuracy: 0.9437 - val_loss: 0.3372 - val_accuracy: 0.9053\n",
      "Epoch 19/30\n",
      "460/460 [==============================] - 50s 108ms/step - loss: 0.1364 - accuracy: 0.9457 - val_loss: 0.3072 - val_accuracy: 0.9213\n",
      "Epoch 20/30\n",
      "460/460 [==============================] - 50s 109ms/step - loss: 0.1294 - accuracy: 0.9471 - val_loss: 0.2745 - val_accuracy: 0.9257\n",
      "Epoch 21/30\n",
      "460/460 [==============================] - 55s 120ms/step - loss: 0.1231 - accuracy: 0.9480 - val_loss: 0.3073 - val_accuracy: 0.9121\n",
      "Epoch 22/30\n",
      "460/460 [==============================] - 55s 120ms/step - loss: 0.1341 - accuracy: 0.9456 - val_loss: 0.2878 - val_accuracy: 0.9199\n",
      "Epoch 23/30\n",
      "460/460 [==============================] - 51s 110ms/step - loss: 0.1328 - accuracy: 0.9437 - val_loss: 0.2491 - val_accuracy: 0.9216\n",
      "Epoch 24/30\n",
      "460/460 [==============================] - 51s 111ms/step - loss: 0.1150 - accuracy: 0.9501 - val_loss: 0.2115 - val_accuracy: 0.9247\n",
      "Epoch 25/30\n",
      "460/460 [==============================] - 63s 137ms/step - loss: 0.1303 - accuracy: 0.9468 - val_loss: 0.2461 - val_accuracy: 0.9206\n",
      "Epoch 26/30\n",
      "460/460 [==============================] - 55s 119ms/step - loss: 0.1287 - accuracy: 0.9487 - val_loss: 0.3454 - val_accuracy: 0.9063\n",
      "Epoch 27/30\n",
      "460/460 [==============================] - 52s 112ms/step - loss: 0.1297 - accuracy: 0.9472 - val_loss: 0.4206 - val_accuracy: 0.8968\n",
      "Epoch 28/30\n",
      "460/460 [==============================] - 52s 112ms/step - loss: 0.1311 - accuracy: 0.9471 - val_loss: 0.3381 - val_accuracy: 0.9264\n",
      "Epoch 29/30\n",
      "460/460 [==============================] - 52s 112ms/step - loss: 0.1335 - accuracy: 0.9457 - val_loss: 0.2931 - val_accuracy: 0.9162\n",
      "Epoch 30/30\n",
      "460/460 [==============================] - 52s 113ms/step - loss: 0.1145 - accuracy: 0.9505 - val_loss: 0.3259 - val_accuracy: 0.9192\n"
     ]
    },
    {
     "data": {
      "text/plain": [
       "<keras.callbacks.History at 0x2829c92bd30>"
      ]
     },
     "execution_count": 28,
     "metadata": {},
     "output_type": "execute_result"
    }
   ],
   "source": [
    "# Training the model\n",
    "model.fit(X_train, Y_train, batch_size=n_batch, validation_data=(X_test, Y_test), epochs=n_epochs)"
   ]
  },
  {
   "cell_type": "code",
   "execution_count": 36,
   "metadata": {},
   "outputs": [
    {
     "ename": "NameError",
     "evalue": "name 'plt' is not defined",
     "output_type": "error",
     "traceback": [
      "\u001b[1;31m---------------------------------------------------------------------------\u001b[0m",
      "\u001b[1;31mNameError\u001b[0m                                 Traceback (most recent call last)",
      "\u001b[1;32m<ipython-input-36-ac39a1bb0e87>\u001b[0m in \u001b[0;36m<module>\u001b[1;34m\u001b[0m\n\u001b[0;32m      1\u001b[0m \u001b[1;32mimport\u001b[0m \u001b[0mseaborn\u001b[0m \u001b[1;32mas\u001b[0m \u001b[0msns\u001b[0m\u001b[1;33m\u001b[0m\u001b[1;33m\u001b[0m\u001b[0m\n\u001b[1;32m----> 2\u001b[1;33m \u001b[0max\u001b[0m \u001b[1;33m=\u001b[0m \u001b[0mplt\u001b[0m\u001b[1;33m.\u001b[0m\u001b[0msubplot\u001b[0m\u001b[1;33m(\u001b[0m\u001b[1;33m)\u001b[0m\u001b[1;33m\u001b[0m\u001b[1;33m\u001b[0m\u001b[0m\n\u001b[0m\u001b[0;32m      3\u001b[0m \u001b[1;33m\u001b[0m\u001b[0m\n\u001b[0;32m      4\u001b[0m \u001b[1;33m\u001b[0m\u001b[0m\n\u001b[0;32m      5\u001b[0m \u001b[1;31m#cm = confusion_matrix(np.asarray(Y_test).argmax(axis=1), np.asarray(y_pred).argmax(axis=0))\u001b[0m\u001b[1;33m\u001b[0m\u001b[1;33m\u001b[0m\u001b[1;33m\u001b[0m\u001b[0m\n",
      "\u001b[1;31mNameError\u001b[0m: name 'plt' is not defined"
     ]
    }
   ],
   "source": [
    "import seaborn as sns\n",
    "ax = plt.subplot()\n",
    "\n",
    "\n",
    "#cm = confusion_matrix(np.asarray(Y_test).argmax(axis=1), np.asarray(y_pred).argmax(axis=0))\n",
    "cm = confusion_matrix(Y_test, model.predict(X_test))\n",
    "sns.heatmap(cm, annot=True, fmt='g',ax=ax)\n",
    "\n",
    "ax.set_xlabel('Predicted labels')\n",
    "ax.set_ylabel('True labels')\n",
    "ax.set_title('Confusion Matrix')"
   ]
  },
  {
   "cell_type": "code",
   "execution_count": 29,
   "metadata": {},
   "outputs": [
    {
     "name": "stdout",
     "output_type": "stream",
     "text": [
      "93/93 [==============================] - 8s 83ms/step - loss: 0.2360 - accuracy: 0.9189\n",
      "\n",
      "   cat_crossentropy  ||   accuracy \n",
      "  ____________________________________\n",
      "[0.23595140874385834, 0.9189005494117737]\n"
     ]
    }
   ],
   "source": [
    "score = model.evaluate(X_test, Y_test)\n",
    "\n",
    "print(\"\\n   cat_crossentropy  ||   accuracy \")\n",
    "print(\"  ____________________________________\")\n",
    "print(score)"
   ]
  },
  {
   "cell_type": "markdown",
   "metadata": {},
   "source": [
    "<html><h1><p style=\"color:red\">Defining the Architecture of 4-Layer of LSTM with more hyperparameter tunning </p></h1></html>"
   ]
  },
  {
   "cell_type": "code",
   "execution_count": 37,
   "metadata": {},
   "outputs": [
    {
     "name": "stdout",
     "output_type": "stream",
     "text": [
      "Model: \"sequential_3\"\n",
      "_________________________________________________________________\n",
      " Layer (type)                Output Shape              Param #   \n",
      "=================================================================\n",
      " lstm_6 (LSTM)               (None, 128, 64)           18944     \n",
      "                                                                 \n",
      " batch_normalization_2 (Batc  (None, 128, 64)          256       \n",
      " hNormalization)                                                 \n",
      "                                                                 \n",
      " dropout_6 (Dropout)         (None, 128, 64)           0         \n",
      "                                                                 \n",
      " lstm_7 (LSTM)               (None, 128, 64)           33024     \n",
      "                                                                 \n",
      " dropout_7 (Dropout)         (None, 128, 64)           0         \n",
      "                                                                 \n",
      " lstm_8 (LSTM)               (None, 128, 64)           33024     \n",
      "                                                                 \n",
      " dropout_8 (Dropout)         (None, 128, 64)           0         \n",
      "                                                                 \n",
      " lstm_9 (LSTM)               (None, 64)                33024     \n",
      "                                                                 \n",
      " dropout_9 (Dropout)         (None, 64)                0         \n",
      "                                                                 \n",
      " dense_3 (Dense)             (None, 6)                 390       \n",
      "                                                                 \n",
      "=================================================================\n",
      "Total params: 118,662\n",
      "Trainable params: 118,534\n",
      "Non-trainable params: 128\n",
      "_________________________________________________________________\n"
     ]
    }
   ],
   "source": [
    "model = Sequential()\n",
    "model.add(LSTM(64, return_sequences=True, input_shape=(timesteps, input_dim)))  # returns a sequence of vectors of dimension 32\n",
    "model.add(BatchNormalization())\n",
    "model.add(Dropout(0.50))\n",
    "model.add(LSTM(64, return_sequences=True))  # returns a sequence of vectors of dimension 32\n",
    "model.add(Dropout(0.50))\n",
    "model.add(LSTM(64, return_sequences=True))  # return a single vector of dimension 32\n",
    "model.add(Dropout(0.50))\n",
    "model.add(LSTM(64,))  # return a single vector of dimension 32\n",
    "model.add(Dropout(0.50))\n",
    "model.add(Dense(n_classes, activation='softmax'))\n",
    "model.summary()"
   ]
  },
  {
   "cell_type": "code",
   "execution_count": 39,
   "metadata": {},
   "outputs": [],
   "source": [
    "model.compile(loss='categorical_crossentropy', optimizer='adam', metrics=['accuracy'])\n"
   ]
  },
  {
   "cell_type": "code",
   "execution_count": 40,
   "metadata": {
    "scrolled": true
   },
   "outputs": [
    {
     "name": "stdout",
     "output_type": "stream",
     "text": [
      "Epoch 1/30\n",
      "460/460 [==============================] - 70s 144ms/step - loss: 0.5121 - accuracy: 0.8141 - val_loss: 0.5225 - val_accuracy: 0.7421\n",
      "Epoch 2/30\n",
      "460/460 [==============================] - 92s 200ms/step - loss: 0.2694 - accuracy: 0.9027 - val_loss: 0.4167 - val_accuracy: 0.8588\n",
      "Epoch 3/30\n",
      "460/460 [==============================] - 77s 168ms/step - loss: 0.1913 - accuracy: 0.9287 - val_loss: 0.3333 - val_accuracy: 0.8894\n",
      "Epoch 4/30\n",
      "460/460 [==============================] - 81s 177ms/step - loss: 0.1589 - accuracy: 0.9362 - val_loss: 0.2628 - val_accuracy: 0.9053\n",
      "Epoch 5/30\n",
      "460/460 [==============================] - 82s 179ms/step - loss: 0.1951 - accuracy: 0.9294 - val_loss: 0.9740 - val_accuracy: 0.7377\n",
      "Epoch 6/30\n",
      "460/460 [==============================] - 76s 165ms/step - loss: 0.1643 - accuracy: 0.9348 - val_loss: 0.2575 - val_accuracy: 0.9135\n",
      "Epoch 7/30\n",
      "460/460 [==============================] - 76s 165ms/step - loss: 0.1446 - accuracy: 0.9429 - val_loss: 0.2774 - val_accuracy: 0.9209\n",
      "Epoch 8/30\n",
      "460/460 [==============================] - 77s 166ms/step - loss: 0.1839 - accuracy: 0.9351 - val_loss: 0.3253 - val_accuracy: 0.9057\n",
      "Epoch 9/30\n",
      "460/460 [==============================] - 76s 165ms/step - loss: 0.1692 - accuracy: 0.9392 - val_loss: 0.4500 - val_accuracy: 0.8761\n",
      "Epoch 10/30\n",
      "460/460 [==============================] - 77s 167ms/step - loss: 0.1770 - accuracy: 0.9331 - val_loss: 0.2634 - val_accuracy: 0.9209\n",
      "Epoch 11/30\n",
      "460/460 [==============================] - 76s 166ms/step - loss: 0.1471 - accuracy: 0.9415 - val_loss: 0.2001 - val_accuracy: 0.9203\n",
      "Epoch 12/30\n",
      "460/460 [==============================] - 76s 165ms/step - loss: 0.1493 - accuracy: 0.9426 - val_loss: 0.2696 - val_accuracy: 0.9060\n",
      "Epoch 13/30\n",
      "460/460 [==============================] - 77s 167ms/step - loss: 0.1589 - accuracy: 0.9369 - val_loss: 0.2511 - val_accuracy: 0.9158\n",
      "Epoch 14/30\n",
      "460/460 [==============================] - 77s 167ms/step - loss: 0.1412 - accuracy: 0.9448 - val_loss: 0.2581 - val_accuracy: 0.9199\n",
      "Epoch 15/30\n",
      "460/460 [==============================] - 76s 166ms/step - loss: 0.1416 - accuracy: 0.9450 - val_loss: 0.3819 - val_accuracy: 0.8785\n",
      "Epoch 16/30\n",
      "460/460 [==============================] - 76s 166ms/step - loss: 0.1469 - accuracy: 0.9410 - val_loss: 0.2836 - val_accuracy: 0.9145\n",
      "Epoch 17/30\n",
      "460/460 [==============================] - 77s 168ms/step - loss: 0.1405 - accuracy: 0.9429 - val_loss: 0.2678 - val_accuracy: 0.9162\n",
      "Epoch 18/30\n",
      "460/460 [==============================] - 77s 168ms/step - loss: 0.1292 - accuracy: 0.9463 - val_loss: 0.1908 - val_accuracy: 0.9162\n",
      "Epoch 19/30\n",
      "460/460 [==============================] - 77s 168ms/step - loss: 0.1719 - accuracy: 0.9380 - val_loss: 0.2371 - val_accuracy: 0.9220\n",
      "Epoch 20/30\n",
      "460/460 [==============================] - 77s 167ms/step - loss: 0.1324 - accuracy: 0.9461 - val_loss: 0.2788 - val_accuracy: 0.9264\n",
      "Epoch 21/30\n",
      "460/460 [==============================] - 81s 176ms/step - loss: 0.1536 - accuracy: 0.9404 - val_loss: 0.2845 - val_accuracy: 0.9226\n",
      "Epoch 22/30\n",
      "460/460 [==============================] - 86s 187ms/step - loss: 0.1581 - accuracy: 0.9389 - val_loss: 0.3441 - val_accuracy: 0.9009\n",
      "Epoch 23/30\n",
      "460/460 [==============================] - 86s 187ms/step - loss: 0.1409 - accuracy: 0.9467 - val_loss: 0.2593 - val_accuracy: 0.9189\n",
      "Epoch 24/30\n",
      "460/460 [==============================] - 90s 196ms/step - loss: 0.1321 - accuracy: 0.9453 - val_loss: 0.2496 - val_accuracy: 0.9355\n",
      "Epoch 25/30\n",
      "460/460 [==============================] - 93s 201ms/step - loss: 0.1313 - accuracy: 0.9472 - val_loss: 0.2759 - val_accuracy: 0.9172\n",
      "Epoch 26/30\n",
      "460/460 [==============================] - 84s 182ms/step - loss: 0.1330 - accuracy: 0.9484 - val_loss: 0.2862 - val_accuracy: 0.9152\n",
      "Epoch 27/30\n",
      "460/460 [==============================] - 91s 197ms/step - loss: 0.1930 - accuracy: 0.9314 - val_loss: 0.3116 - val_accuracy: 0.9087\n",
      "Epoch 28/30\n",
      "460/460 [==============================] - 83s 180ms/step - loss: 0.1494 - accuracy: 0.9416 - val_loss: 0.2331 - val_accuracy: 0.9318\n",
      "Epoch 29/30\n",
      "460/460 [==============================] - 84s 182ms/step - loss: 0.1229 - accuracy: 0.9510 - val_loss: 0.2923 - val_accuracy: 0.9243\n",
      "Epoch 30/30\n",
      "460/460 [==============================] - 81s 176ms/step - loss: 0.1206 - accuracy: 0.9491 - val_loss: 0.2532 - val_accuracy: 0.9189\n"
     ]
    },
    {
     "data": {
      "text/plain": [
       "<keras.callbacks.History at 0x282a82db8b0>"
      ]
     },
     "execution_count": 40,
     "metadata": {},
     "output_type": "execute_result"
    }
   ],
   "source": [
    "\n",
    "# Training the model\n",
    "model.fit(X_train, Y_train, batch_size=n_batch, validation_data=(X_test, Y_test), epochs=n_epochs)"
   ]
  },
  {
   "cell_type": "code",
   "execution_count": 33,
   "metadata": {},
   "outputs": [
    {
     "name": "stdout",
     "output_type": "stream",
     "text": [
      "93/93 [==============================] - 16s 139ms/step\n"
     ]
    },
    {
     "data": {
      "text/plain": [
       "Text(0.5, 1.0, 'Confusion Matrix')"
      ]
     },
     "execution_count": 33,
     "metadata": {},
     "output_type": "execute_result"
    },
    {
     "data": {
      "image/png": "[encoded data removed]",
      "text/plain": [
       "<Figure size 432x288 with 2 Axes>"
      ]
     },
     "metadata": {
      "needs_background": "light"
     },
     "output_type": "display_data"
    }
   ],
   "source": [
    "import seaborn as sns\n",
    "ax = plt.subplot()\n",
    "\n",
    "\n",
    "#cm = confusion_matrix(np.asarray(Y_test).argmax(axis=1), np.asarray(y_pred).argmax(axis=0))\n",
    "cm = confusion_matrix(Y_test, model.predict(X_test))\n",
    "sns.heatmap(cm, annot=True, fmt='g',ax=ax)\n",
    "\n",
    "ax.set_xlabel('Predicted labels')\n",
    "ax.set_ylabel('True labels')\n",
    "ax.set_title('Confusion Matrix')"
   ]
  },
  {
   "cell_type": "code",
   "execution_count": 34,
   "metadata": {},
   "outputs": [
    {
     "name": "stdout",
     "output_type": "stream",
     "text": [
      "93/93 [==============================] - 13s 140ms/step - loss: 0.3851 - accuracy: 0.9206\n",
      "\n",
      "   cat_crossentropy  ||   accuracy \n",
      "  ____________________________________\n",
      "[0.3851405680179596, 0.9205971956253052]\n"
     ]
    }
   ],
   "source": [
    "score = model.evaluate(X_test, Y_test)\n",
    "\n",
    "print(\"\\n   cat_crossentropy  ||   accuracy \")\n",
    "print(\"  ____________________________________\")\n",
    "print(score)"
   ]
  },
  {
   "cell_type": "markdown",
   "metadata": {},
   "source": [
    "# <html><h1><p style=\"color:red\">Defining the Architecture of 5-Layer of LSTM with more hyperparameter tunning </p></h1></html>"
   ]
  },
  {
   "cell_type": "code",
   "execution_count": 37,
   "metadata": {},
   "outputs": [
    {
     "name": "stdout",
     "output_type": "stream",
     "text": [
      "Model: \"sequential_5\"\n",
      "_________________________________________________________________\n",
      " Layer (type)                Output Shape              Param #   \n",
      "=================================================================\n",
      " lstm_15 (LSTM)              (None, 128, 80)           28800     \n",
      "                                                                 \n",
      " batch_normalization_4 (Batc  (None, 128, 80)          320       \n",
      " hNormalization)                                                 \n",
      "                                                                 \n",
      " dropout_14 (Dropout)        (None, 128, 80)           0         \n",
      "                                                                 \n",
      " lstm_16 (LSTM)              (None, 128, 80)           51520     \n",
      "                                                                 \n",
      " dropout_15 (Dropout)        (None, 128, 80)           0         \n",
      "                                                                 \n",
      " lstm_17 (LSTM)              (None, 128, 80)           51520     \n",
      "                                                                 \n",
      " dropout_16 (Dropout)        (None, 128, 80)           0         \n",
      "                                                                 \n",
      " lstm_18 (LSTM)              (None, 128, 80)           51520     \n",
      "                                                                 \n",
      " dropout_17 (Dropout)        (None, 128, 80)           0         \n",
      "                                                                 \n",
      " lstm_19 (LSTM)              (None, 80)                51520     \n",
      "                                                                 \n",
      " dropout_18 (Dropout)        (None, 80)                0         \n",
      "                                                                 \n",
      " dense_4 (Dense)             (None, 6)                 486       \n",
      "                                                                 \n",
      "=================================================================\n",
      "Total params: 235,686\n",
      "Trainable params: 235,526\n",
      "Non-trainable params: 160\n",
      "_________________________________________________________________\n"
     ]
    }
   ],
   "source": [
    "model = Sequential()\n",
    "model.add(LSTM(80, return_sequences=True, input_shape=(timesteps, input_dim)))  \n",
    "model.add(BatchNormalization())\n",
    "model.add(Dropout(0.50))\n",
    "model.add(LSTM(80, return_sequences=True))  \n",
    "model.add(Dropout(0.50))\n",
    "model.add(LSTM(80, return_sequences=True))  \n",
    "model.add(Dropout(0.50))\n",
    "model.add(LSTM(80, return_sequences=True))\n",
    "model.add(Dropout(0.50))\n",
    "model.add(LSTM(80,))  \n",
    "model.add(Dropout(0.50))\n",
    "model.add(Dense(n_classes, activation='softmax'))\n",
    "model.summary()"
   ]
  },
  {
   "cell_type": "code",
   "execution_count": 38,
   "metadata": {},
   "outputs": [],
   "source": [
    "model.compile(loss='categorical_crossentropy', optimizer='adam', metrics=['accuracy'])\n"
   ]
  },
  {
   "cell_type": "code",
   "execution_count": 39,
   "metadata": {},
   "outputs": [
    {
     "name": "stdout",
     "output_type": "stream",
     "text": [
      "Epoch 1/30\n",
      "460/460 [==============================] - 260s 531ms/step - loss: 0.5809 - accuracy: 0.7705 - val_loss: 1.4903 - val_accuracy: 0.5894\n",
      "Epoch 2/30\n",
      "460/460 [==============================] - 241s 525ms/step - loss: 0.3263 - accuracy: 0.8806 - val_loss: 0.3989 - val_accuracy: 0.8107\n",
      "Epoch 3/30\n",
      "460/460 [==============================] - 246s 535ms/step - loss: 0.2497 - accuracy: 0.9140 - val_loss: 0.5218 - val_accuracy: 0.8514\n",
      "Epoch 4/30\n",
      "460/460 [==============================] - 263s 573ms/step - loss: 0.1948 - accuracy: 0.9293 - val_loss: 0.4383 - val_accuracy: 0.8697\n",
      "Epoch 5/30\n",
      "460/460 [==============================] - 210s 457ms/step - loss: 0.2153 - accuracy: 0.9253 - val_loss: 0.4963 - val_accuracy: 0.8765\n",
      "Epoch 6/30\n",
      "460/460 [==============================] - 240s 522ms/step - loss: 0.1815 - accuracy: 0.9323 - val_loss: 0.3204 - val_accuracy: 0.9091\n",
      "Epoch 7/30\n",
      "460/460 [==============================] - 225s 490ms/step - loss: 0.1611 - accuracy: 0.9400 - val_loss: 0.4253 - val_accuracy: 0.8819\n",
      "Epoch 8/30\n",
      "460/460 [==============================] - 250s 543ms/step - loss: 0.1787 - accuracy: 0.9338 - val_loss: 0.2619 - val_accuracy: 0.9189\n",
      "Epoch 9/30\n",
      "460/460 [==============================] - 294s 639ms/step - loss: 0.1744 - accuracy: 0.9305 - val_loss: 0.3388 - val_accuracy: 0.8958\n",
      "Epoch 10/30\n",
      "460/460 [==============================] - 278s 604ms/step - loss: 0.1695 - accuracy: 0.9348 - val_loss: 0.2994 - val_accuracy: 0.9087\n",
      "Epoch 11/30\n",
      "460/460 [==============================] - 252s 548ms/step - loss: 0.1693 - accuracy: 0.9369 - val_loss: 0.2881 - val_accuracy: 0.8785\n",
      "Epoch 12/30\n",
      "460/460 [==============================] - 294s 640ms/step - loss: 0.2378 - accuracy: 0.9143 - val_loss: 0.3627 - val_accuracy: 0.8931\n",
      "Epoch 13/30\n",
      "460/460 [==============================] - 343s 745ms/step - loss: 0.1686 - accuracy: 0.9272 - val_loss: 0.3162 - val_accuracy: 0.9084\n",
      "Epoch 14/30\n",
      "460/460 [==============================] - 290s 631ms/step - loss: 0.1476 - accuracy: 0.9436 - val_loss: 0.3680 - val_accuracy: 0.8938\n",
      "Epoch 15/30\n",
      "460/460 [==============================] - 337s 733ms/step - loss: 0.1508 - accuracy: 0.9382 - val_loss: 0.5687 - val_accuracy: 0.8663\n",
      "Epoch 16/30\n",
      "460/460 [==============================] - 284s 617ms/step - loss: 0.1429 - accuracy: 0.9423 - val_loss: 0.3621 - val_accuracy: 0.9094\n",
      "Epoch 17/30\n",
      "460/460 [==============================] - 291s 634ms/step - loss: 0.1680 - accuracy: 0.9385 - val_loss: 0.3893 - val_accuracy: 0.8806\n",
      "Epoch 18/30\n",
      "460/460 [==============================] - 325s 708ms/step - loss: 0.1849 - accuracy: 0.9305 - val_loss: 0.2580 - val_accuracy: 0.9237\n",
      "Epoch 19/30\n",
      "460/460 [==============================] - 379s 823ms/step - loss: 0.1431 - accuracy: 0.9414 - val_loss: 0.2844 - val_accuracy: 0.9220\n",
      "Epoch 20/30\n",
      "460/460 [==============================] - 339s 736ms/step - loss: 0.1464 - accuracy: 0.9407 - val_loss: 0.3847 - val_accuracy: 0.8955\n",
      "Epoch 21/30\n",
      "460/460 [==============================] - 318s 692ms/step - loss: 0.1311 - accuracy: 0.9453 - val_loss: 0.3068 - val_accuracy: 0.9063\n",
      "Epoch 22/30\n",
      "460/460 [==============================] - 315s 686ms/step - loss: 0.1403 - accuracy: 0.9442 - val_loss: 0.2926 - val_accuracy: 0.9050\n",
      "Epoch 23/30\n",
      "460/460 [==============================] - 302s 657ms/step - loss: 0.1579 - accuracy: 0.9359 - val_loss: 0.3475 - val_accuracy: 0.8901\n",
      "Epoch 24/30\n",
      "460/460 [==============================] - 316s 687ms/step - loss: 0.1933 - accuracy: 0.9312 - val_loss: 0.3942 - val_accuracy: 0.9046\n",
      "Epoch 25/30\n",
      "460/460 [==============================] - 275s 598ms/step - loss: 0.1914 - accuracy: 0.9305 - val_loss: 0.4360 - val_accuracy: 0.9070\n",
      "Epoch 26/30\n",
      "460/460 [==============================] - 248s 539ms/step - loss: 0.1539 - accuracy: 0.9421 - val_loss: 0.2901 - val_accuracy: 0.9253\n",
      "Epoch 27/30\n",
      "460/460 [==============================] - 256s 556ms/step - loss: 0.1365 - accuracy: 0.9450 - val_loss: 0.3284 - val_accuracy: 0.9108\n",
      "Epoch 28/30\n",
      "460/460 [==============================] - 238s 518ms/step - loss: 0.2681 - accuracy: 0.9161 - val_loss: 0.5548 - val_accuracy: 0.8273\n",
      "Epoch 29/30\n",
      "460/460 [==============================] - 243s 529ms/step - loss: 0.2229 - accuracy: 0.9257 - val_loss: 0.4303 - val_accuracy: 0.8904\n",
      "Epoch 30/30\n",
      "460/460 [==============================] - 243s 529ms/step - loss: 0.1597 - accuracy: 0.9437 - val_loss: 0.2425 - val_accuracy: 0.9304\n"
     ]
    },
    {
     "data": {
      "text/plain": [
       "<keras.callbacks.History at 0x1697093e340>"
      ]
     },
     "execution_count": 39,
     "metadata": {},
     "output_type": "execute_result"
    }
   ],
   "source": [
    "\n",
    "# Training the model\n",
    "model.fit(X_train, Y_train, batch_size=n_batch, validation_data=(X_test, Y_test), epochs=n_epochs)"
   ]
  },
  {
   "cell_type": "code",
   "execution_count": 40,
   "metadata": {},
   "outputs": [
    {
     "name": "stdout",
     "output_type": "stream",
     "text": [
      "93/93 [==============================] - 27s 255ms/step\n"
     ]
    },
    {
     "data": {
      "text/plain": [
       "Text(0.5, 1.0, 'Confusion Matrix')"
      ]
     },
     "execution_count": 40,
     "metadata": {},
     "output_type": "execute_result"
    },
    {
     "data": {
      "image/png": "[encoded data removed]",
      "text/plain": [
       "<Figure size 432x288 with 2 Axes>"
      ]
     },
     "metadata": {
      "needs_background": "light"
     },
     "output_type": "display_data"
    }
   ],
   "source": [
    "import seaborn as sns\n",
    "ax = plt.subplot()\n",
    "\n",
    "\n",
    "#cm = confusion_matrix(np.asarray(Y_test).argmax(axis=1), np.asarray(y_pred).argmax(axis=0))\n",
    "cm = confusion_matrix(Y_test, model.predict(X_test))\n",
    "sns.heatmap(cm, annot=True, fmt='g',ax=ax)\n",
    "\n",
    "ax.set_xlabel('Predicted labels')\n",
    "ax.set_ylabel('True labels')\n",
    "ax.set_title('Confusion Matrix')"
   ]
  },
  {
   "cell_type": "code",
   "execution_count": 41,
   "metadata": {},
   "outputs": [
    {
     "name": "stdout",
     "output_type": "stream",
     "text": [
      "93/93 [==============================] - 23s 247ms/step - loss: 0.2425 - accuracy: 0.9304\n",
      "\n",
      "   cat_crossentropy  ||   accuracy \n",
      "  ____________________________________\n",
      "[0.2424951195716858, 0.9304377436637878]\n"
     ]
    }
   ],
   "source": [
    "score = model.evaluate(X_test, Y_test)\n",
    "\n",
    "print(\"\\n   cat_crossentropy  ||   accuracy \")\n",
    "print(\"  ____________________________________\")\n",
    "print(score)"
   ]
  },
  {
   "cell_type": "code",
   "execution_count": null,
   "metadata": {},
   "outputs": [],
   "source": []
  }
 ],
 "metadata": {
  "kernelspec": {
   "display_name": "Python 3",
   "language": "python",
   "name": "python3"
  },
  "language_info": {
   "codemirror_mode": {
    "name": "ipython",
    "version": 3
   },
   "file_extension": ".py",
   "mimetype": "text/x-python",
   "name": "python",
   "nbconvert_exporter": "python",
   "pygments_lexer": "ipython3",
   "version": "3.8.8"
  }
 },
 "nbformat": 4,
 "nbformat_minor": 2
}
